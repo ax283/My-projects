{
 "cells": [
  {
   "cell_type": "code",
   "execution_count": 1,
   "source": [
    "import math\r\n",
    "import cv2\r\n",
    "import sys\r\n",
    "import os\r\n",
    "import numpy as np"
   ],
   "outputs": [],
   "metadata": {
    "ExecuteTime": {
     "end_time": "2021-09-26T12:57:35.001064Z",
     "start_time": "2021-09-26T12:57:32.960805Z"
    }
   }
  },
  {
   "cell_type": "code",
   "execution_count": null,
   "source": [
    "path_to_video = './Monkey.avi'\r\n",
    "\r\n",
    "cap = cv2.VideoCapture(path_to_video)\r\n",
    "\r\n",
    "if not cap.isOpened():\r\n",
    "    print('{} not opened'.format(path_to_video))\r\n",
    "    sys.exit(1)\r\n",
    "\r\n",
    "time_length = int(cap.get(cv2.CAP_PROP_FRAME_COUNT))\r\n",
    "frame_height = cap.get(cv2.CAP_PROP_FRAME_HEIGHT)\r\n",
    "frame_width = cap.get(cv2.CAP_PROP_FRAME_WIDTH)\r\n",
    "\r\n",
    "while(1):\r\n",
    "    return_flag, frame = cap.read()  \r\n",
    "    if not return_flag:\r\n",
    "       \r\n",
    "        print('Video Reach End')\r\n",
    "        break\r\n",
    "        \r\n",
    "  \r\n",
    "    cv2.imshow('VideoWindowTitle-Monkey', frame)\r\n",
    "  \r\n",
    "    \r\n",
    "\r\n",
    "    if cv2.waitKey(30) & 0xff == ord('q'):\r\n",
    "        break\r\n",
    "\r\n",
    "cap.release()\r\n",
    "cv2.destroyAllWindows()"
   ],
   "outputs": [],
   "metadata": {
    "ExecuteTime": {
     "end_time": "2021-09-26T12:58:10.895017Z",
     "start_time": "2021-09-26T12:57:35.005060Z"
    }
   }
  },
  {
   "cell_type": "code",
   "execution_count": 2,
   "source": [
    "frame_save_path = './frames/'\r\n",
    "def create_dir_if_not_exists(directory):\r\n",
    "    if not os.path.exists(directory):\r\n",
    "        os.makedirs(directory)"
   ],
   "outputs": [],
   "metadata": {
    "ExecuteTime": {
     "end_time": "2021-09-26T12:58:10.924998Z",
     "start_time": "2021-09-26T12:58:10.912007Z"
    }
   }
  },
  {
   "cell_type": "code",
   "execution_count": 122,
   "source": [
    "cap = cv2.VideoCapture(path_to_video)\r\n",
    "create_dir_if_not_exists(frame_save_path)\r\n",
    "if not cap.isOpened():\r\n",
    "    print('{} not opened'.format(path_to_video))\r\n",
    "    sys.exit(1)\r\n",
    "time_length = int(cap.get(cv2.CAP_PROP_FRAME_COUNT))\r\n",
    "frame_height = cap.get(cv2.CAP_PROP_FRAME_HEIGHT)\r\n",
    "frame_width = cap.get(cv2.CAP_PROP_FRAME_WIDTH)\r\n",
    "frame_counter = 0 \r\n",
    "\r\n",
    "while frame_counter <= 150:\r\n",
    "    return_flag, frame = cap.read()  \r\n",
    "    if not return_flag:\r\n",
    "        print('Video Reach End')\r\n",
    "        break\r\n",
    "\r\n",
    "    cv2.imshow('VideoWindowTitle-Monkey', frame)\r\n",
    "    cv2.imwrite(frame_save_path + 'frame%d.tif' % frame_counter, frame)\r\n",
    "    frame_counter += 1\r\n",
    "    \r\n",
    "    if cv2.waitKey(30) & 0xff == ord('q'):\r\n",
    "        break\r\n",
    "cap.release()\r\n",
    "cv2.destroyAllWindows()"
   ],
   "outputs": [],
   "metadata": {
    "ExecuteTime": {
     "end_time": "2021-09-28T08:14:12.812587Z",
     "start_time": "2021-09-28T08:14:07.087895Z"
    }
   }
  },
  {
   "cell_type": "code",
   "execution_count": 3,
   "source": [
    "def arrowdraw(img, x1, y1, x2, y2):\r\n",
    "    radians = math.atan2(x1-x2, y2-y1)\r\n",
    "    x11 = 0\r\n",
    "    y11 = 0\r\n",
    "    x12 = -10\r\n",
    "    y12 = -10\r\n",
    "\r\n",
    "    u11 = 0\r\n",
    "    v11 = 0\r\n",
    "    u12 = 10\r\n",
    "    v12 = -10\r\n",
    "    \r\n",
    "    x11_ = x11*math.cos(radians) - y11*math.sin(radians) + x2\r\n",
    "    y11_ = x11*math.sin(radians) + y11*math.cos(radians) + y2\r\n",
    "\r\n",
    "    x12_ = x12 * math.cos(radians) - y12 * math.sin(radians) + x2\r\n",
    "    y12_ = x12 * math.sin(radians) + y12 * math.cos(radians) + y2\r\n",
    "    \r\n",
    "    u11_ = u11 * math.cos(radians) - v11 * math.sin(radians) + x2\r\n",
    "    v11_ = u11 * math.sin(radians) + v11 * math.cos(radians) + y2\r\n",
    "\r\n",
    "    u12_ = u12 * math.cos(radians) - v12 * math.sin(radians) + x2\r\n",
    "    v12_ = u12 * math.sin(radians) + v12 * math.cos(radians) + y2\r\n",
    "    img = cv2.line(img, (x1, y1), (x2, y2), (255, 255, 255), 2)\r\n",
    "    img = cv2.line(img, (int(x11_), int(y11_)), (int(x12_), int(y12_)), \r\n",
    "    (255, 255, 255), 2)\r\n",
    "    img = cv2.line(img, (int(u11_), int(v11_)), (int(u12_), int(v12_)), \r\n",
    "    (255, 255, 255), 2)\r\n",
    "    \r\n",
    "    return img"
   ],
   "outputs": [],
   "metadata": {
    "ExecuteTime": {
     "end_time": "2021-09-27T03:26:45.078986Z",
     "start_time": "2021-09-27T03:26:45.052003Z"
    }
   }
  },
  {
   "cell_type": "code",
   "execution_count": 4,
   "source": [
    "def getSSD(source_grid, target_grid):\r\n",
    "\r\n",
    "    return np.sqrt(np.sum((source_grid-target_grid)**2))   "
   ],
   "outputs": [],
   "metadata": {
    "ExecuteTime": {
     "end_time": "2021-09-28T12:03:04.306021Z",
     "start_time": "2021-09-28T12:03:04.288032Z"
    }
   }
  },
  {
   "cell_type": "code",
   "execution_count": 124,
   "source": [
    "count = 0\r\n",
    "process_frame = 0\r\n",
    "k = 3\r\n",
    "grid_size = 2*k+1\r\n",
    "\r\n",
    "t_min = 112\r\n",
    "t_max = 150\r\n",
    "\r\n",
    "cap = cv2.VideoCapture('./monkey.avi')\r\n",
    "if not cap.isOpened():\r\n",
    "    print('monkey.avi not opened')\r\n",
    "    sys.exit(1)\r\n",
    "length = int(cap.get(cv2.CAP_PROP_FRAME_COUNT))\r\n",
    "frame_height = cap.get(cv2.CAP_PROP_FRAME_HEIGHT)\r\n",
    "frame_width = cap.get(cv2.CAP_PROP_FRAME_WIDTH)\r\n",
    "\r\n",
    "while count <= 0:\r\n",
    "    \r\n",
    "    oframe = cv2.imread(frame_save_path + 'frame%d.tif' %count)\r\n",
    "\r\n",
    "    \r\n",
    "    tframe = cv2.imread(frame_save_path + 'frame%d.tif' %(count+1))\r\n",
    "\r\n",
    "    \r\n",
    "\r\n",
    "    \r\n",
    "    for i in range(grid_size*14,int(frame_height-3*grid_size),grid_size):\r\n",
    "        for j in range(grid_size*14,int(frame_width-3*grid_size),grid_size):\r\n",
    "\r\n",
    "            source_grid = oframe[i:i+grid_size, j:j+grid_size,:]\r\n",
    "#             print(\"Source grid: \",source_grid[0][0])\r\n",
    "            \r\n",
    "            \r\n",
    "            \r\n",
    "            \r\n",
    "            \r\n",
    "\r\n",
    "            region = []   \r\n",
    "            \r\n",
    "            for x in range(i-k*grid_size,i+k*grid_size,grid_size):\r\n",
    "                if x > frame_height-grid_size or x <= 0:\r\n",
    "                    continue\r\n",
    "                \r\n",
    "                for y in range(j-k*grid_size,j+k*grid_size,grid_size):\r\n",
    "                    if y > frame_width-grid_size or y <= 0:\r\n",
    "                        continue\r\n",
    "                    \r\n",
    "                    target_grid = tframe[x:x+grid_size, y:y+grid_size,:]\r\n",
    "                       \r\n",
    "                    \r\n",
    "#                     print(\"target_grid: \",target_grid[0][0])\r\n",
    "#                     print(\"x:\",x)\r\n",
    "#                     print(\"y:\",y)\r\n",
    "#                     print(\"i//grid_size:\",i//grid_size)\r\n",
    "#                     print(\"j//grid_size:\",j//grid_size)\r\n",
    "                    SSD = getSSD(source_grid, target_grid)\r\n",
    "                     \r\n",
    "                    region.append([SSD,y,x])\r\n",
    "                    \r\n",
    "                    \r\n",
    "                    #print(\"SSD: \\n\" ,SSD)\r\n",
    "                    \r\n",
    "#                     print(\"Source grid: \",source_grid[0][0])\r\n",
    "#                     print(\"Target grid: \\n\" ,target_grid[0][0])\r\n",
    "                    \r\n",
    "            if len(region) == 0:\r\n",
    "                continue\r\n",
    "            min_SSD = min(region)\r\n",
    "#             if min_SSD[0] > t_min:\r\n",
    "#                 print(\"min SSD: \" ,min_SSD[0])\r\n",
    "#                 print(\"i//grid_size:\",i//grid_size)\r\n",
    "#                 print(\"j//grid_size:\",j//grid_size)\r\n",
    "#                 print(\"x//grid_size:\",min_SSD[2]//grid_size)\r\n",
    "#                 print(\"y//grid_size:\",min_SSD[1]//grid_size)\r\n",
    "                \r\n",
    "#                 print(\"x:\",x)\r\n",
    "#                 print(\"y:\",y)\r\n",
    "#                 print(\"Source grid: \",source_grid[0][0])\r\n",
    "#                 print(\"target_grid: \",target_grid[0][0])\r\n",
    "                \r\n",
    "\r\n",
    "\r\n",
    "            if min_SSD[0] > t_min and min_SSD[0] < t_max:   \r\n",
    "                \r\n",
    "                arrowdraw(oframe,j,i, min_SSD[1], min_SSD[2])\r\n",
    "                \r\n",
    "\r\n",
    "                    \r\n",
    "            create_dir_if_not_exists('./output/')  \r\n",
    "            cv2.imwrite('output/output%d.tif' % count, oframe)\r\n",
    "            \r\n",
    "\r\n",
    "           \r\n",
    "\r\n",
    "    \r\n",
    "    #cv2.imshow('Monkey video with arrows', monkey_copy)\r\n",
    "\r\n",
    "    count += 1\r\n",
    "    if cv2.waitKey(30) & 0xff == ord('q'):\r\n",
    "        break\r\n",
    "    process_frame += 1\r\n",
    "cap.release()\r\n",
    "cv2.destroyAllWindows()\r\n"
   ],
   "outputs": [],
   "metadata": {
    "ExecuteTime": {
     "start_time": "2021-09-28T14:42:02.873Z"
    },
    "scrolled": true
   }
  },
  {
   "cell_type": "code",
   "execution_count": 125,
   "source": [
    "frame_load_path = './output/'\n",
    "create_dir_if_not_exists(frame_load_path)\n",
    "path_to_output_video = './Monkey video with vectors.mov'\n",
    "out = cv2.VideoWriter(path_to_output_video, cv2.VideoWriter_fourcc('M', 'J', 'P', 'G'), 10, (int(frame_width), int(frame_height)))\n",
    "frame_counter = 0\n",
    "while(frame_counter <= 149):\n",
    "    img = cv2.imread(frame_load_path + 'output%d.tif' % frame_counter)\n",
    "    if img is None:\n",
    "        print('No more frames to be loaded')\n",
    "        break;\n",
    "    out.write(img)\n",
    "    frame_counter += 1\n",
    "out.release()\n",
    "cv2.destroyAllWindows()"
   ],
   "outputs": [],
   "metadata": {}
  }
 ],
 "metadata": {
  "hide_input": false,
  "interpreter": {
   "hash": "67eeae8494aef679c6683b9edcbde03ade80c21a4fb7d24578725a4d9e0c68ef"
  },
  "kernelspec": {
   "name": "python3",
   "display_name": "Python 3.8.5 64-bit ('base': conda)"
  },
  "language_info": {
   "codemirror_mode": {
    "name": "ipython",
    "version": 3
   },
   "file_extension": ".py",
   "mimetype": "text/x-python",
   "name": "python",
   "nbconvert_exporter": "python",
   "pygments_lexer": "ipython3",
   "version": "3.8.5"
  },
  "toc": {
   "base_numbering": 1,
   "nav_menu": {},
   "number_sections": true,
   "sideBar": true,
   "skip_h1_title": false,
   "title_cell": "Table of Contents",
   "title_sidebar": "Contents",
   "toc_cell": false,
   "toc_position": {},
   "toc_section_display": true,
   "toc_window_display": false
  },
  "varInspector": {
   "cols": {
    "lenName": 16,
    "lenType": 16,
    "lenVar": 40
   },
   "kernels_config": {
    "python": {
     "delete_cmd_postfix": "",
     "delete_cmd_prefix": "del ",
     "library": "var_list.py",
     "varRefreshCmd": "print(var_dic_list())"
    },
    "r": {
     "delete_cmd_postfix": ") ",
     "delete_cmd_prefix": "rm(",
     "library": "var_list.r",
     "varRefreshCmd": "cat(var_dic_list()) "
    }
   },
   "position": {
    "height": "324px",
    "left": "701px",
    "right": "20px",
    "top": "142px",
    "width": "532px"
   },
   "types_to_exclude": [
    "module",
    "function",
    "builtin_function_or_method",
    "instance",
    "_Feature"
   ],
   "window_display": false
  }
 },
 "nbformat": 4,
 "nbformat_minor": 4
}